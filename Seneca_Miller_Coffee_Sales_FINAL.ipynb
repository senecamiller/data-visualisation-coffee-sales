{
 "cells": [
  {
   "cell_type": "code",
   "execution_count": 1,
   "id": "174bd992-e500-4b7b-a18d-ca4c13a12cc0",
   "metadata": {},
   "outputs": [],
   "source": [
    "# Import pandas, plotly, and dash\n",
    "from dash import Dash\n",
    "from dash import html, dcc\n",
    "from dash import callback, Output, Input\n",
    "import plotly.express as px\n",
    "import pandas as pd"
   ]
  },
  {
   "cell_type": "code",
   "execution_count": 17,
   "id": "779d1f94-11ee-4ec0-b591-e840a68085cc",
   "metadata": {},
   "outputs": [],
   "source": [
    "# Read the excel file\n",
    "df = pd.read_excel(\"Coffee_Shop_Sales.xlsx\")"
   ]
  },
  {
   "cell_type": "code",
   "execution_count": 7,
   "id": "79057673-de34-4961-985a-6646536e8cab",
   "metadata": {},
   "outputs": [],
   "source": [
    "# Select the columns of the chart I plan to use\n",
    "columns_to_select = ['transaction_id', 'transaction_date', 'transaction_qty', 'product_category', 'product_type']\n",
    "filtered_df = df.loc[:, columns_to_select].copy()"
   ]
  },
  {
   "cell_type": "code",
   "execution_count": 9,
   "id": "2d84929a-a6c4-43de-be8d-05c13f36f9f7",
   "metadata": {},
   "outputs": [],
   "source": [
    "# Convert transaction_date to a DateTime object\n",
    "filtered_df['transaction_date'] = pd.to_datetime(filtered_df['transaction_date'])"
   ]
  },
  {
   "cell_type": "code",
   "execution_count": 11,
   "id": "99f3d60f-5d5c-42f8-8f5e-3023ae314fac",
   "metadata": {},
   "outputs": [],
   "source": [
    "# Filter transaction_date by year, month, and day\n",
    "filtered_df['year']= filtered_df['transaction_date'].dt.year\n",
    "filtered_df['month']= filtered_df['transaction_date'].dt.month\n",
    "filtered_df['day']= filtered_df['transaction_date'].dt.day"
   ]
  },
  {
   "cell_type": "code",
   "execution_count": 15,
   "id": "6d120ce4-8ad9-4014-a382-8da7b64ac2fd",
   "metadata": {},
   "outputs": [
    {
     "data": {
      "text/html": [
       "\n",
       "        <iframe\n",
       "            width=\"100%\"\n",
       "            height=\"650\"\n",
       "            src=\"http://127.0.0.1:8050/\"\n",
       "            frameborder=\"0\"\n",
       "            allowfullscreen\n",
       "            \n",
       "        ></iframe>\n",
       "        "
      ],
      "text/plain": [
       "<IPython.lib.display.IFrame at 0x129e13ad0>"
      ]
     },
     "metadata": {},
     "output_type": "display_data"
    }
   ],
   "source": [
    "df= pd.read_excel(\"Coffee_Shop_Sales.xlsx\")\n",
    "\n",
    "animatedGraph = px.histogram(\n",
    "    filtered_df, \n",
    "    x=\"transaction_qty\", \n",
    "    y=\"product_category\", \n",
    "    animation_frame=\"month\",\n",
    "    #color=\"product_type\",\n",
    "    range_x=[0,6750],\n",
    "    width = 1000,\n",
    "    title = 'Total Transactions each Month by Product Type'\n",
    ")\n",
    "\n",
    "# Creating drop-down menu\n",
    "app = Dash(__name__)\n",
    "\n",
    "app.layout = html.Div([\n",
    "    dcc.Dropdown(\n",
    "        id='multiselect-category',\n",
    "        options=[\n",
    "            {'label': pastry, 'value': pastry} for pastry in filtered_df['product_category'].unique()\n",
    "        ],\n",
    "        value=filtered_df['product_category'].unique(),\n",
    "        multi=True,\n",
    "        placeholder='Select Categories'\n",
    "        ),\n",
    "    dcc.Graph(\n",
    "        id='animated-graph'\n",
    "    )\n",
    "])\n",
    "\n",
    "# Call the drop-down menu that was created\n",
    "@app.callback(\n",
    "    Output('animated-graph', 'figure'),\n",
    "    Input('multiselect-category','value')\n",
    ")\n",
    "\n",
    "# Create an Animated Histogram\n",
    "def update_graph(categories): \n",
    "    filtered_data = filtered_df[filtered_df['product_category'].isin(categories)]\n",
    "    \n",
    "    animatedGraph = px.histogram(\n",
    "        filtered_data, \n",
    "        x=\"transaction_qty\", \n",
    "        y=\"product_category\", \n",
    "        animation_frame=\"month\",\n",
    "        color=\"product_type\",\n",
    "        range_x=[0,14000],\n",
    "        width = 1000,\n",
    "        title = 'Total Transactions Made Each Month by Product Category'\n",
    "        )\n",
    "\n",
    "# Update the x and y axis title, resize, and add subtitle\n",
    "    animatedGraph.update_layout(\n",
    "        xaxis_title = \"Transaction Quantity Count\",\n",
    "        yaxis_title = \"Product Category\",\n",
    "        title_x = 0.5,\n",
    "        title_subtitle_text = 'This histogram shows coffee shop sales from January to June. Items sold are displayed in 9 categories that can be filtered <br> at the top of the chart. Each category displays the transaction quantity count. The graph is color-coded by product types.',\n",
    "        font_size = 12,\n",
    "        legend_title_text='Product Type',\n",
    "        plot_bgcolor = 'white'             \n",
    "    )\n",
    "    return animatedGraph\n",
    "\n",
    "app.run(debug=True)"
   ]
  },
  {
   "cell_type": "code",
   "execution_count": null,
   "id": "21e96c45-e83b-4d21-b0d6-ff7a0f29c12b",
   "metadata": {},
   "outputs": [],
   "source": []
  }
 ],
 "metadata": {
  "kernelspec": {
   "display_name": "Python 3 (ipykernel)",
   "language": "python",
   "name": "python3"
  },
  "language_info": {
   "codemirror_mode": {
    "name": "ipython",
    "version": 3
   },
   "file_extension": ".py",
   "mimetype": "text/x-python",
   "name": "python",
   "nbconvert_exporter": "python",
   "pygments_lexer": "ipython3",
   "version": "3.12.4"
  }
 },
 "nbformat": 4,
 "nbformat_minor": 5
}
